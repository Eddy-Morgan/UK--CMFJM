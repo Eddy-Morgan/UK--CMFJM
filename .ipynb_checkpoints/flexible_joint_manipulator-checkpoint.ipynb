{
 "cells": [
  {
   "cell_type": "code",
   "execution_count": 36,
   "id": "cc346211",
   "metadata": {},
   "outputs": [],
   "source": [
    "import sympy as sm\n",
    "from sympy import diff, Symbol\n",
    "from scipy.integrate import odeint\n",
    "import numpy as np\n",
    "from sympy.physics.mechanics import dynamicsymbols\n",
    "import math"
   ]
  },
  {
   "cell_type": "code",
   "execution_count": 37,
   "id": "f80a7c68",
   "metadata": {},
   "outputs": [],
   "source": [
    "from sympy.physics.vector import init_vprinting\n",
    "init_vprinting(use_latex=\"mathjax\", pretty_print=False)"
   ]
  },
  {
   "cell_type": "code",
   "execution_count": 78,
   "id": "0fa3308f",
   "metadata": {},
   "outputs": [
    {
     "data": {
      "text/latex": [
       "$\\displaystyle \\left( m_{1}, \\  m_{2}, \\  lc_{1}, \\  lc_{2}, \\  l_{1}, \\  K_{1}, \\  K_{2}, \\  J_{11}, \\  J_{22}, \\  q^{(1)}\\right)$"
      ],
      "text/plain": [
       "(m1, m2, lc1, lc2, l1, K1, K2, J11, J22, q^{(1)})"
      ]
     },
     "execution_count": 78,
     "metadata": {},
     "output_type": "execute_result"
    }
   ],
   "source": [
    "m1, m2, lc1, lc2, l1, I1, I2, K1, K2, J11, J22, g, u = sm.symbols('m1 m2 lc1 lc2 l1 I1 I2 K1 K2 J11 J22 g u', real =True)\n",
    "q1s, q2s, q3s, q4s = dynamicsymbols('q^{(1)} q^{(2)} q^{(3)} q^{(4)}')\n",
    "q1sd, q2sd, q3sd, q4sd = dynamicsymbols('q^{(1)} q^{(2)} q^{(3)} q^{(4)}',1)\n",
    "q1sdd, q2sdd, q3sdd, q4sdd = dynamicsymbols('q^{(1)} q^{(2)} q^{(3)} q^{(4)}',2)\n",
    "m1, m2, lc1, lc2, l1, K1, K2, J11, J22 ,q1s"
   ]
  },
  {
   "cell_type": "code",
   "execution_count": 79,
   "id": "e4434f78",
   "metadata": {},
   "outputs": [
    {
     "data": {
      "text/latex": [
       "$\\displaystyle I_{1} + I_{2} + lc_{1}^{2} m_{1} + m_{2} \\left(l_{1}^{2} + 2 l_{1} lc_{2} \\cos{\\left(q^{(4)} \\right)} + lc_{2}^{2}\\right)$"
      ],
      "text/plain": [
       "I1 + I2 + lc1**2*m1 + m2*(l1**2 + 2*l1*lc2*cos(q^{(4)}) + lc2**2)"
      ]
     },
     "execution_count": 79,
     "metadata": {},
     "output_type": "execute_result"
    }
   ],
   "source": [
    "d11 = m2*(l1**2 + lc2**2 + 2*l1*lc2*sm.cos(q4s)) + m1*lc1**2 + I1 + I2\n",
    "d11"
   ]
  },
  {
   "cell_type": "code",
   "execution_count": 80,
   "id": "fc96662f",
   "metadata": {},
   "outputs": [
    {
     "data": {
      "text/latex": [
       "$\\displaystyle I_{2} + m_{2} \\left(l_{1} lc_{2} \\cos{\\left(q^{(4)} \\right)} + lc_{2}^{2}\\right)$"
      ],
      "text/plain": [
       "I2 + m2*(l1*lc2*cos(q^{(4)}) + lc2**2)"
      ]
     },
     "execution_count": 80,
     "metadata": {},
     "output_type": "execute_result"
    }
   ],
   "source": [
    "d12 = m2*(lc2**2 + l1*lc2*sm.cos(q4s)) + I2\n",
    "d12"
   ]
  },
  {
   "cell_type": "code",
   "execution_count": 81,
   "id": "f686e257",
   "metadata": {},
   "outputs": [
    {
     "data": {
      "text/latex": [
       "$\\displaystyle I_{2} + m_{2} \\left(l_{1} lc_{2} \\cos{\\left(q^{(4)} \\right)} + lc_{2}^{2}\\right)$"
      ],
      "text/plain": [
       "I2 + m2*(l1*lc2*cos(q^{(4)}) + lc2**2)"
      ]
     },
     "execution_count": 81,
     "metadata": {},
     "output_type": "execute_result"
    }
   ],
   "source": [
    "d21 = d12\n",
    "d21"
   ]
  },
  {
   "cell_type": "code",
   "execution_count": 82,
   "id": "e9e155bd",
   "metadata": {},
   "outputs": [
    {
     "data": {
      "text/latex": [
       "$\\displaystyle I_{2} + lc_{2}^{2} m_{2}$"
      ],
      "text/plain": [
       "I2 + lc2**2*m2"
      ]
     },
     "execution_count": 82,
     "metadata": {},
     "output_type": "execute_result"
    }
   ],
   "source": [
    "d22 = m2*lc2**2 + I2\n",
    "d22"
   ]
  },
  {
   "cell_type": "code",
   "execution_count": 83,
   "id": "b0d3f33f",
   "metadata": {},
   "outputs": [
    {
     "data": {
      "text/latex": [
       "$\\displaystyle - l_{1} lc_{2} m_{1} \\sin{\\left(q^{(4)} \\right)} \\dot{q^{(4)}}$"
      ],
      "text/plain": [
       "-l1*lc2*m1*sin(q^{(4)})*q^{(4)}'"
      ]
     },
     "execution_count": 83,
     "metadata": {},
     "output_type": "execute_result"
    }
   ],
   "source": [
    "c11 = -m1*l1*lc2*sm.sin(q4s)*q4sd\n",
    "c11"
   ]
  },
  {
   "cell_type": "code",
   "execution_count": 84,
   "id": "45e52106",
   "metadata": {},
   "outputs": [
    {
     "data": {
      "text/latex": [
       "$\\displaystyle - l_{1} lc_{2} m_{2} \\left(\\dot{q^{(2)}} + \\dot{q^{(4)}}\\right) \\sin{\\left(q^{(4)} \\right)}$"
      ],
      "text/plain": [
       "-l1*lc2*m2*(q^{(2)}' + q^{(4)}')*sin(q^{(4)})"
      ]
     },
     "execution_count": 84,
     "metadata": {},
     "output_type": "execute_result"
    }
   ],
   "source": [
    "c12 = -m2*l1*lc2*sm.sin(q4s)*(q4sd + q2sd)\n",
    "c12"
   ]
  },
  {
   "cell_type": "code",
   "execution_count": 85,
   "id": "b28f3fcd",
   "metadata": {},
   "outputs": [
    {
     "data": {
      "text/latex": [
       "$\\displaystyle l_{1} lc_{2} m_{2} \\sin{\\left(q^{(4)} \\right)} \\dot{q^{(2)}}$"
      ],
      "text/plain": [
       "l1*lc2*m2*sin(q^{(4)})*q^{(2)}'"
      ]
     },
     "execution_count": 85,
     "metadata": {},
     "output_type": "execute_result"
    }
   ],
   "source": [
    "c21 = m2*l1*lc2*sm.sin(q4s)* q2sd\n",
    "c21"
   ]
  },
  {
   "cell_type": "code",
   "execution_count": 86,
   "id": "1a96075b",
   "metadata": {},
   "outputs": [
    {
     "data": {
      "text/latex": [
       "$\\displaystyle 0$"
      ],
      "text/plain": [
       "0"
      ]
     },
     "execution_count": 86,
     "metadata": {},
     "output_type": "execute_result"
    }
   ],
   "source": [
    "c22 = 0\n",
    "c22"
   ]
  },
  {
   "cell_type": "code",
   "execution_count": 87,
   "id": "da653b8b",
   "metadata": {},
   "outputs": [
    {
     "data": {
      "text/latex": [
       "$\\displaystyle \\left[\\begin{matrix}I_{1} + I_{2} + lc_{1}^{2} m_{1} + m_{2} \\left(l_{1}^{2} + 2 l_{1} lc_{2} \\cos{\\left(q^{(4)} \\right)} + lc_{2}^{2}\\right) & I_{2} + m_{2} \\left(l_{1} lc_{2} \\cos{\\left(q^{(4)} \\right)} + lc_{2}^{2}\\right)\\\\I_{2} + m_{2} \\left(l_{1} lc_{2} \\cos{\\left(q^{(4)} \\right)} + lc_{2}^{2}\\right) & I_{2} + lc_{2}^{2} m_{2}\\end{matrix}\\right]$"
      ],
      "text/plain": [
       "Matrix([\n",
       "[I1 + I2 + lc1**2*m1 + m2*(l1**2 + 2*l1*lc2*cos(q^{(4)}) + lc2**2), I2 + m2*(l1*lc2*cos(q^{(4)}) + lc2**2)],\n",
       "[                           I2 + m2*(l1*lc2*cos(q^{(4)}) + lc2**2),                         I2 + lc2**2*m2]])"
      ]
     },
     "execution_count": 87,
     "metadata": {},
     "output_type": "execute_result"
    }
   ],
   "source": [
    "D = sm.Matrix([[d11, d12],[d21, d22]])\n",
    "D"
   ]
  },
  {
   "cell_type": "code",
   "execution_count": 88,
   "id": "b8a8cddb",
   "metadata": {},
   "outputs": [
    {
     "data": {
      "text/latex": [
       "$\\displaystyle \\left[\\begin{matrix}- l_{1} lc_{2} m_{1} \\sin{\\left(q^{(4)} \\right)} \\dot{q^{(4)}} & - l_{1} lc_{2} m_{2} \\left(\\dot{q^{(2)}} + \\dot{q^{(4)}}\\right) \\sin{\\left(q^{(4)} \\right)}\\\\l_{1} lc_{2} m_{2} \\sin{\\left(q^{(4)} \\right)} \\dot{q^{(2)}} & 0\\end{matrix}\\right]$"
      ],
      "text/plain": [
       "Matrix([\n",
       "[-l1*lc2*m1*sin(q^{(4)})*q^{(4)}', -l1*lc2*m2*(q^{(2)}' + q^{(4)}')*sin(q^{(4)})],\n",
       "[ l1*lc2*m2*sin(q^{(4)})*q^{(2)}',                                             0]])"
      ]
     },
     "execution_count": 88,
     "metadata": {},
     "output_type": "execute_result"
    }
   ],
   "source": [
    "C = sm.Matrix([[c11, c12],[c21, c22]])\n",
    "C"
   ]
  },
  {
   "cell_type": "code",
   "execution_count": 89,
   "id": "f5180c06",
   "metadata": {},
   "outputs": [
    {
     "data": {
      "text/latex": [
       "$\\displaystyle \\left[\\begin{matrix}g lc_{2} m_{2} \\sin{\\left(q^{(2)} + q^{(4)} \\right)} + g \\left(l_{1} m_{2} + lc_{1} m_{1}\\right) \\sin{\\left(q^{(2)} \\right)}\\\\g lc_{2} m_{2} \\sin{\\left(q^{(2)} + q^{(4)} \\right)}\\end{matrix}\\right]$"
      ],
      "text/plain": [
       "Matrix([\n",
       "[g*lc2*m2*sin(q^{(2)} + q^{(4)}) + g*(l1*m2 + lc1*m1)*sin(q^{(2)})],\n",
       "[                                  g*lc2*m2*sin(q^{(2)} + q^{(4)})]])"
      ]
     },
     "execution_count": 89,
     "metadata": {},
     "output_type": "execute_result"
    }
   ],
   "source": [
    "G = sm.Matrix([(m1*lc1 + m2*l1)*g*sm.sin(q2s) + m2*lc2*g*sm.sin(q2s + q4s) , m2*lc2*g*sm.sin(q2s + q4s)])\n",
    "G"
   ]
  },
  {
   "cell_type": "code",
   "execution_count": 90,
   "id": "febadecd",
   "metadata": {},
   "outputs": [
    {
     "data": {
      "text/latex": [
       "$\\displaystyle \\left[\\begin{matrix}J_{11} & 0\\\\0 & J_{22}\\end{matrix}\\right]$"
      ],
      "text/plain": [
       "Matrix([\n",
       "[J11,   0],\n",
       "[  0, J22]])"
      ]
     },
     "execution_count": 90,
     "metadata": {},
     "output_type": "execute_result"
    }
   ],
   "source": [
    "J = sm.Matrix([[J11,0],[0,J22]])\n",
    "J"
   ]
  },
  {
   "cell_type": "code",
   "execution_count": 91,
   "id": "514ec76b",
   "metadata": {},
   "outputs": [
    {
     "data": {
      "text/latex": [
       "$\\displaystyle \\left[\\begin{matrix}K_{1} & 0\\\\0 & K_{2}\\end{matrix}\\right]$"
      ],
      "text/plain": [
       "Matrix([\n",
       "[K1,  0],\n",
       "[ 0, K2]])"
      ]
     },
     "execution_count": 91,
     "metadata": {},
     "output_type": "execute_result"
    }
   ],
   "source": [
    "K = sm.Matrix([[K1, 0],[0, K2]])\n",
    "K"
   ]
  },
  {
   "cell_type": "code",
   "execution_count": 92,
   "id": "d16984b1",
   "metadata": {},
   "outputs": [
    {
     "data": {
      "text/latex": [
       "$\\displaystyle \\left[\\begin{matrix}q^{(2)}\\\\q^{(4)}\\end{matrix}\\right]$"
      ],
      "text/plain": [
       "Matrix([\n",
       "[q^{(2)}],\n",
       "[q^{(4)}]])"
      ]
     },
     "execution_count": 92,
     "metadata": {},
     "output_type": "execute_result"
    }
   ],
   "source": [
    "q1 = sm.Matrix([q2s, q4s])\n",
    "q1"
   ]
  },
  {
   "cell_type": "code",
   "execution_count": 93,
   "id": "fa1ac370",
   "metadata": {},
   "outputs": [
    {
     "data": {
      "text/latex": [
       "$\\displaystyle \\left[\\begin{matrix}q^{(1)}\\\\q^{(3)}\\end{matrix}\\right]$"
      ],
      "text/plain": [
       "Matrix([\n",
       "[q^{(1)}],\n",
       "[q^{(3)}]])"
      ]
     },
     "execution_count": 93,
     "metadata": {},
     "output_type": "execute_result"
    }
   ],
   "source": [
    "q2 = sm.Matrix([q1s, q3s])\n",
    "q2"
   ]
  },
  {
   "cell_type": "code",
   "execution_count": 94,
   "id": "31f2a382",
   "metadata": {},
   "outputs": [],
   "source": [
    "q1d = sm.diff(q1,'t')\n",
    "q1dd = sm.diff(q1d,'t')\n",
    "q2d = sm.diff(q2,'t')\n",
    "q2dd = sm.diff(q2d,'t')"
   ]
  },
  {
   "cell_type": "code",
   "execution_count": 95,
   "id": "48908707",
   "metadata": {},
   "outputs": [
    {
     "data": {
      "text/latex": [
       "$\\displaystyle \\left[\\begin{matrix}K_{1} \\left(- q^{(1)} + q^{(2)}\\right) + g lc_{2} m_{2} \\sin{\\left(q^{(2)} + q^{(4)} \\right)} + g \\left(l_{1} m_{2} + lc_{1} m_{1}\\right) \\sin{\\left(q^{(2)} \\right)} - l_{1} lc_{2} m_{1} \\sin{\\left(q^{(4)} \\right)} \\dot{q^{(2)}} \\dot{q^{(4)}} - l_{1} lc_{2} m_{2} \\left(\\dot{q^{(2)}} + \\dot{q^{(4)}}\\right) \\sin{\\left(q^{(4)} \\right)} \\dot{q^{(4)}} + \\left(I_{2} + m_{2} \\left(l_{1} lc_{2} \\cos{\\left(q^{(4)} \\right)} + lc_{2}^{2}\\right)\\right) \\ddot{q^{(4)}} + \\left(I_{1} + I_{2} + lc_{1}^{2} m_{1} + m_{2} \\left(l_{1}^{2} + 2 l_{1} lc_{2} \\cos{\\left(q^{(4)} \\right)} + lc_{2}^{2}\\right)\\right) \\ddot{q^{(2)}}\\\\K_{2} \\left(- q^{(3)} + q^{(4)}\\right) + g lc_{2} m_{2} \\sin{\\left(q^{(2)} + q^{(4)} \\right)} + l_{1} lc_{2} m_{2} \\sin{\\left(q^{(4)} \\right)} \\dot{q^{(2)}}^{2} + \\left(I_{2} + lc_{2}^{2} m_{2}\\right) \\ddot{q^{(4)}} + \\left(I_{2} + m_{2} \\left(l_{1} lc_{2} \\cos{\\left(q^{(4)} \\right)} + lc_{2}^{2}\\right)\\right) \\ddot{q^{(2)}}\\end{matrix}\\right]$"
      ],
      "text/plain": [
       "Matrix([\n",
       "[K1*(-q^{(1)} + q^{(2)}) + g*lc2*m2*sin(q^{(2)} + q^{(4)}) + g*(l1*m2 + lc1*m1)*sin(q^{(2)}) - l1*lc2*m1*sin(q^{(4)})*q^{(2)}'*q^{(4)}' - l1*lc2*m2*(q^{(2)}' + q^{(4)}')*sin(q^{(4)})*q^{(4)}' + (I2 + m2*(l1*lc2*cos(q^{(4)}) + lc2**2))*q^{(4)}'' + (I1 + I2 + lc1**2*m1 + m2*(l1**2 + 2*l1*lc2*cos(q^{(4)}) + lc2**2))*q^{(2)}''],\n",
       "[                                                                                                                                                   K2*(-q^{(3)} + q^{(4)}) + g*lc2*m2*sin(q^{(2)} + q^{(4)}) + l1*lc2*m2*sin(q^{(4)})*q^{(2)}'**2 + (I2 + lc2**2*m2)*q^{(4)}'' + (I2 + m2*(l1*lc2*cos(q^{(4)}) + lc2**2))*q^{(2)}'']])"
      ]
     },
     "execution_count": 95,
     "metadata": {},
     "output_type": "execute_result"
    }
   ],
   "source": [
    "eqn1 = D*q1dd + C*q1d + G + K*(q1-q2)\n",
    "eqn1"
   ]
  },
  {
   "cell_type": "code",
   "execution_count": 98,
   "id": "888ee27e",
   "metadata": {},
   "outputs": [
    {
     "data": {
      "text/latex": [
       "$\\displaystyle \\left[\\begin{matrix}J_{11} \\ddot{q^{(1)}} - K_{1} \\left(- q^{(1)} + q^{(2)}\\right)\\\\J_{22} \\ddot{q^{(3)}} - K_{2} \\left(- q^{(3)} + q^{(4)}\\right)\\end{matrix}\\right]$"
      ],
      "text/plain": [
       "Matrix([\n",
       "[J11*q^{(1)}'' - K1*(-q^{(1)} + q^{(2)})],\n",
       "[J22*q^{(3)}'' - K2*(-q^{(3)} + q^{(4)})]])"
      ]
     },
     "execution_count": 98,
     "metadata": {},
     "output_type": "execute_result"
    }
   ],
   "source": [
    "eq2 = J * q2dd - K*(q1-q2)\n",
    "eq2"
   ]
  },
  {
   "cell_type": "markdown",
   "id": "241deffd",
   "metadata": {},
   "source": [
    "<h3>define constrainst</h3>\n"
   ]
  },
  {
   "cell_type": "code",
   "execution_count": 100,
   "id": "de0bf32e",
   "metadata": {},
   "outputs": [
    {
     "data": {
      "text/latex": [
       "$\\displaystyle \\dot{q^{(2)}} + \\dot{q^{(4)}}$"
      ],
      "text/plain": [
       "q^{(2)}' + q^{(4)}'"
      ]
     },
     "execution_count": 100,
     "metadata": {},
     "output_type": "execute_result"
    }
   ],
   "source": [
    "ctd = q2sd + q4sd\n",
    "ctd"
   ]
  },
  {
   "cell_type": "code",
   "execution_count": 101,
   "id": "f0e9fa77",
   "metadata": {},
   "outputs": [
    {
     "data": {
      "text/latex": [
       "$\\displaystyle \\ddot{q^{(2)}} + \\ddot{q^{(4)}}$"
      ],
      "text/plain": [
       "q^{(2)}'' + q^{(4)}''"
      ]
     },
     "execution_count": 101,
     "metadata": {},
     "output_type": "execute_result"
    }
   ],
   "source": [
    "ctdd = sm.diff(ctd,'t')\n",
    "ctdd"
   ]
  },
  {
   "cell_type": "code",
   "execution_count": 106,
   "id": "0050977b",
   "metadata": {},
   "outputs": [
    {
     "data": {
      "text/latex": [
       "$\\displaystyle \\left[\\begin{matrix}1 & 1\\end{matrix}\\right]$"
      ],
      "text/plain": [
       "Matrix([[1, 1]])"
      ]
     },
     "execution_count": 106,
     "metadata": {},
     "output_type": "execute_result"
    }
   ],
   "source": [
    "A = sm.Matrix([[ctdd.coeff(q2sdd), ctdd.coeff(q4sdd)]])\n",
    "A"
   ]
  },
  {
   "cell_type": "code",
   "execution_count": 107,
   "id": "1058cdd4",
   "metadata": {},
   "outputs": [
    {
     "data": {
      "text/latex": [
       "$\\displaystyle \\left[\\begin{matrix}0\\end{matrix}\\right]$"
      ],
      "text/plain": [
       "Matrix([[0]])"
      ]
     },
     "execution_count": 107,
     "metadata": {},
     "output_type": "execute_result"
    }
   ],
   "source": [
    "b = sm.Matrix([[ctdd - ctdd.coeff(q2sdd)*q2sdd -ctdd.coeff(q4sdd)*q4sdd ]])\n",
    "b"
   ]
  },
  {
   "cell_type": "code",
   "execution_count": null,
   "id": "8a65eb78",
   "metadata": {},
   "outputs": [],
   "source": [
    "Fc =  M**(1/2)*sm.Matrix.pinv(A*(M**(-1/2)))*(b-(A*(M**(-1))*F))\n",
    "Fc"
   ]
  }
 ],
 "metadata": {
  "kernelspec": {
   "display_name": "Python 3 (ipykernel)",
   "language": "python",
   "name": "python3"
  },
  "language_info": {
   "codemirror_mode": {
    "name": "ipython",
    "version": 3
   },
   "file_extension": ".py",
   "mimetype": "text/x-python",
   "name": "python",
   "nbconvert_exporter": "python",
   "pygments_lexer": "ipython3",
   "version": "3.9.6"
  }
 },
 "nbformat": 4,
 "nbformat_minor": 5
}
